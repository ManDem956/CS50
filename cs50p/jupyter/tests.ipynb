{
 "cells": [
  {
   "cell_type": "code",
   "execution_count": 13,
   "metadata": {},
   "outputs": [
    {
     "name": "stdout",
     "output_type": "stream",
     "text": [
      "func(another_kwarg=another kwarg)\n",
      "func(1)\n",
      "func(10, 100, 300, test={10, 20, 30}, another_kwarg=100)\n",
      "func(10, 100, 300, test=range(0, 10), another_kwarg=300, non_string_kwarg=[10, 11])\n"
     ]
    }
   ],
   "source": [
    "from functools import reduce\n",
    "import inspect\n",
    "from typing import Any, Callable, Collection\n",
    "\n",
    "\n",
    "type Composable = Callable[[Any], Any]\n",
    "\n",
    "\n",
    "def mapper(converter: Callable) -> Callable:\n",
    "    def do_map(items: Collection) -> tuple:\n",
    "        result = tuple(map(converter, items))\n",
    "        return result\n",
    "    return do_map\n",
    "\n",
    "\n",
    "def joiner(sep: str) -> Callable:\n",
    "    def do_join(value: Collection) -> str:\n",
    "        return sep.join(filter(bool, value))\n",
    "    return do_join\n",
    "\n",
    "\n",
    "def combiner(*functions: Composable) -> Composable:\n",
    "    def apply(value: Any, fn: Composable) -> Any:\n",
    "        return fn(value)\n",
    "    return lambda val: reduce(apply, functions, val)\n",
    "\n",
    "\n",
    "def func(*args, **kwargs):\n",
    "    str_mapper = mapper(str)\n",
    "    coma_joiner = joiner(\", \")\n",
    "\n",
    "    kwargs_handler = combiner(mapper(str_mapper), mapper(joiner(\"=\")))\n",
    "    signature_handler = combiner(mapper(coma_joiner), coma_joiner)\n",
    "    \n",
    "    all_args = signature_handler((str_mapper(args), kwargs_handler(kwargs.items()),),)\n",
    "\n",
    "\n",
    "    print(f\"{inspect.currentframe().f_code.co_name}({all_args})\")\n",
    "\n",
    "\n",
    "func(another_kwarg=\"another kwarg\")\n",
    "func(1)\n",
    "func(10, 100, 300, test={10, 20, 30}, another_kwarg=100)\n",
    "func(10, 100, 300, test=range(10), another_kwarg=300)"
   ]
  },
  {
   "cell_type": "code",
   "execution_count": 24,
   "metadata": {},
   "outputs": [
    {
     "data": {
      "text/plain": [
       "<function __main__.combiner.<locals>.<lambda>(val)>"
      ]
     },
     "execution_count": 24,
     "metadata": {},
     "output_type": "execute_result"
    }
   ],
   "source": [
    "type Composable = Callable[[Any], Any]\n",
    "\n",
    "\n",
    "def combiner(*functions: Composable) -> Composable:\n",
    "    def apply(value: Any, fn: Composable) -> Any:\n",
    "        return fn(value)\n",
    "    return lambda val: reduce(apply, functions, val)\n",
    "\n",
    "\n",
    "def curried(prefix, postfix):\n",
    "    def curry(value):\n",
    "        return f\"{prefix} {value} {postfix}\"\n",
    "    return curry\n",
    "\n",
    "\n",
    "\n",
    "do_stuff = combiner(\n",
    "        curried(\">>>\", \"<<<\"),\n",
    "        curried(\"!===\", \"===!\"),\n",
    "        curried(\"...\", \",,,\")\n",
    "        )\n",
    "\n",
    "do_stuff(\"Douglas Adams\")\n",
    "do_stuff"
   ]
  },
  {
   "cell_type": "code",
   "execution_count": 5,
   "metadata": {},
   "outputs": [
    {
     "name": "stdout",
     "output_type": "stream",
     "text": [
      ">>>Douglas Adams<<<\n",
      ">>>Douglas Adams<<<\n"
     ]
    }
   ],
   "source": [
    "from typing import Any, Callable\n",
    "\n",
    "def curry(f: Callable[[tuple[str, str], str], str]) -> Callable[[tuple[str, str]], Any]:\n",
    "    def x(a: tuple[str, str]) -> Callable[[str], str]:\n",
    "        def y(b: str) -> str:\n",
    "            return f(a, b)\n",
    "        return y\n",
    "    return x\n",
    "\n",
    "\n",
    "def my_func(a:tuple[str, str], b: str) -> str:\n",
    "    return b.join(a)\n",
    "\n",
    "\n",
    "a = (\">>>\", \"<<<\")\n",
    "b = \"Douglas Adams\"\n",
    "\n",
    "curried = curry(my_func)\n",
    "print(curried(a)(b))\n",
    "\n",
    "print(my_func(a, b))"
   ]
  },
  {
   "cell_type": "code",
   "execution_count": null,
   "metadata": {},
   "outputs": [],
   "source": []
  }
 ],
 "metadata": {
  "kernelspec": {
   "display_name": ".jupyter",
   "language": "python",
   "name": "python3"
  },
  "language_info": {
   "codemirror_mode": {
    "name": "ipython",
    "version": 3
   },
   "file_extension": ".py",
   "mimetype": "text/x-python",
   "name": "python",
   "nbconvert_exporter": "python",
   "pygments_lexer": "ipython3",
   "version": "3.12.4"
  }
 },
 "nbformat": 4,
 "nbformat_minor": 2
}
