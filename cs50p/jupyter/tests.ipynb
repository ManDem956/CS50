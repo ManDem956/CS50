{
 "cells": [
  {
   "cell_type": "code",
   "execution_count": 13,
   "metadata": {},
   "outputs": [
    {
     "name": "stdout",
     "output_type": "stream",
     "text": [
      "func(another_kwarg=another kwarg)\n",
      "func(1)\n",
      "func(10, 100, 300, test={10, 20, 30}, another_kwarg=100)\n",
      "func(10, 100, 300, test=range(0, 10), another_kwarg=300, non_string_kwarg=[10, 11])\n"
     ]
    }
   ],
   "source": [
    "from functools import reduce\n",
    "import inspect\n",
    "from typing import Any, Callable, Collection\n",
    "\n",
    "\n",
    "type Composable = Callable[[Any], Any]\n",
    "\n",
    "\n",
    "def mapper(converter: Callable) -> Callable:\n",
    "    def do_map(items: Collection) -> tuple:\n",
    "        result = tuple(map(converter, items))\n",
    "        return result\n",
    "    return do_map\n",
    "\n",
    "\n",
    "def joiner(sep: str) -> Callable:\n",
    "    def do_join(value: Collection) -> str:\n",
    "        return sep.join(filter(bool, value))\n",
    "    return do_join\n",
    "\n",
    "\n",
    "def combiner(*functions: Composable) -> Composable:\n",
    "    def apply(value: Any, fn: Composable) -> Any:\n",
    "        return fn(value)\n",
    "    return lambda val: reduce(apply, functions, val)\n",
    "\n",
    "\n",
    "def func(*args, **kwargs):\n",
    "    str_mapper = mapper(str)\n",
    "    coma_joiner = joiner(\", \")\n",
    "\n",
    "    kwargs_handler = combiner(mapper(str_mapper), mapper(joiner(\"=\")))\n",
    "    signature_handler = combiner(mapper(coma_joiner), coma_joiner)\n",
    "    \n",
    "    all_args = signature_handler((str_mapper(args), kwargs_handler(kwargs.items()),),)\n",
    "\n",
    "\n",
    "    print(f\"{inspect.currentframe().f_code.co_name}({all_args})\")\n",
    "\n",
    "\n",
    "func(another_kwarg=\"another kwarg\")\n",
    "func(1)\n",
    "func(10, 100, 300, test={10, 20, 30}, another_kwarg=100)\n",
    "func(10, 100, 300, test=range(10), another_kwarg=300)"
   ]
  },
  {
   "cell_type": "code",
   "execution_count": 24,
   "metadata": {},
   "outputs": [
    {
     "data": {
      "text/plain": [
       "<function __main__.combiner.<locals>.<lambda>(val)>"
      ]
     },
     "execution_count": 24,
     "metadata": {},
     "output_type": "execute_result"
    }
   ],
   "source": [
    "type Composable = Callable[[Any], Any]\n",
    "\n",
    "\n",
    "def combiner(*functions: Composable) -> Composable:\n",
    "    def apply(value: Any, fn: Composable) -> Any:\n",
    "        return fn(value)\n",
    "    return lambda val: reduce(apply, functions, val)\n",
    "\n",
    "\n",
    "def curried(prefix, postfix):\n",
    "    def curry(value):\n",
    "        return f\"{prefix} {value} {postfix}\"\n",
    "    return curry\n",
    "\n",
    "\n",
    "\n",
    "do_stuff = combiner(\n",
    "        curried(\">>>\", \"<<<\"),\n",
    "        curried(\"!===\", \"===!\"),\n",
    "        curried(\"...\", \",,,\")\n",
    "        )\n",
    "\n",
    "do_stuff(\"Douglas Adams\")\n",
    "do_stuff"
   ]
  },
  {
   "cell_type": "code",
   "execution_count": 5,
   "metadata": {},
   "outputs": [
    {
     "name": "stdout",
     "output_type": "stream",
     "text": [
      ">>>Douglas Adams<<<\n",
      ">>>Douglas Adams<<<\n"
     ]
    }
   ],
   "source": [
    "from typing import Any, Callable\n",
    "\n",
    "def curry(f: Callable[[tuple[str, str], str], str]) -> Callable[[tuple[str, str]], Any]:\n",
    "    def x(a: tuple[str, str]) -> Callable[[str], str]:\n",
    "        def y(b: str) -> str:\n",
    "            return f(a, b)\n",
    "        return y\n",
    "    return x\n",
    "\n",
    "\n",
    "def my_func(a:tuple[str, str], b: str) -> str:\n",
    "    return b.join(a)\n",
    "\n",
    "\n",
    "a = (\">>>\", \"<<<\")\n",
    "b = \"Douglas Adams\"\n",
    "\n",
    "curried = curry(my_func)\n",
    "print(curried(a)(b))\n",
    "\n",
    "print(my_func(a, b))"
   ]
  },
  {
   "cell_type": "code",
   "execution_count": 66,
   "metadata": {},
   "outputs": [
    {
     "name": "stdout",
     "output_type": "stream",
     "text": [
      "|       Title | tabulate 0.9.0                                               |\n",
      "|         URL | https://pypi.org/project/tabulate/                           |\n",
      "| Description | Lorem ipsum dolor sit amet, consectetur adipiscing elit.     |\n",
      "|             | Aliquam non purus eu metus maximus bibendum. Sed finibus     |\n",
      "|             | porta porta. Mauris gravida, mauris eu dignissim volutpat,   |\n",
      "|             | turpis sem sollicitudin nisi, at hendrerit eros mi efficitur |\n",
      "|             | metus.                                                       |\n"
     ]
    }
   ],
   "source": [
    "import pprint\n",
    "import textwrap\n",
    "import tabulate\n",
    "\n",
    "prefix = \"Description\"\n",
    "prefix_len = len(\"Description: \")\n",
    "\n",
    "text = \"Lorem ipsum dolor sit amet, consectetur adipiscing elit. Aliquam non purus eu metus maximus bibendum. Sed finibus porta porta. Mauris gravida, mauris eu dignissim volutpat, turpis sem sollicitudin nisi, at hendrerit eros mi efficitur metus.\"\n",
    "\n",
    "the_dicts = [\n",
    "\n",
    "    {\"header\": \"Title\", \"text\": \"tabulate 0.9.0\"},\n",
    "    {\"header\": \"URL\", \"text\": \"https://pypi.org/project/tabulate/\"},\n",
    "    {\"header\": prefix, \"text\": text},\n",
    "    ]\n",
    "print(tabulate.tabulate(the_dicts, tablefmt='orgtbl', colalign=('right','left'), maxcolwidths=[None, 60]))\n"
   ]
  },
  {
   "cell_type": "code",
   "execution_count": 76,
   "metadata": {},
   "outputs": [
    {
     "name": "stdout",
     "output_type": "stream",
     "text": [
      "Description: Lorem ipsum dolor sit amet, consectetur adipiscing elit.\n",
      "             Aliquam non purus eu metus maximus bibendum. Sed finibus\n",
      "             porta porta. Mauris gravida, mauris eu dignissim volutpat,\n",
      "             turpis sem sollicitudin nisi, at hendrerit eros mi efficitur\n",
      "             metus.\n"
     ]
    }
   ],
   "source": [
    "import textwrap\n",
    "\n",
    "prefix = \"Description: \"\n",
    "prefix_len = len(\"Description: \")\n",
    "\n",
    "text = \"Lorem ipsum dolor sit amet, consectetur adipiscing elit. Aliquam non purus eu metus maximus bibendum. Sed finibus porta porta. Mauris gravida, mauris eu dignissim volutpat, turpis sem sollicitudin nisi, at hendrerit eros mi efficitur metus.\"\n",
    "wrapped = textwrap.wrap(prefix+text, width=60+prefix_len, initial_indent=\"\", subsequent_indent=\" \"*prefix_len, )\n",
    "\n",
    "print(*wrapped, sep=\"\\n\")"
   ]
  }
 ],
 "metadata": {
  "kernelspec": {
   "display_name": ".jupyter",
   "language": "python",
   "name": "python3"
  },
  "language_info": {
   "codemirror_mode": {
    "name": "ipython",
    "version": 3
   },
   "file_extension": ".py",
   "mimetype": "text/x-python",
   "name": "python",
   "nbconvert_exporter": "python",
   "pygments_lexer": "ipython3",
   "version": "3.12.4"
  }
 },
 "nbformat": 4,
 "nbformat_minor": 2
}
