{
 "cells": [
  {
   "cell_type": "code",
   "execution_count": 11,
   "metadata": {},
   "outputs": [
    {
     "data": {
      "text/plain": [
       "{'.doc': 'Document_Files',\n",
       " '.docx': 'Document_Files',\n",
       " '.pdf': 'Document_Files',\n",
       " '.txt': 'Document_Files',\n",
       " '.rtf': 'Document_Files',\n",
       " '.odt': 'Document_Files',\n",
       " '.jpg': 'Image_Files',\n",
       " '.jpeg': 'Image_Files',\n",
       " '.png': 'Image_Files',\n",
       " '.gif': 'Image_Files',\n",
       " '.bmp': 'Image_Files',\n",
       " '.tif': 'Image_Files',\n",
       " '.tiff': 'Image_Files',\n",
       " '.mp3': 'Audio_Files',\n",
       " '.wav': 'Audio_Files',\n",
       " '.aac': 'Audio_Files',\n",
       " '.flac': 'Audio_Files',\n",
       " '.wma': 'Audio_Files',\n",
       " '.mp4': 'Video_files',\n",
       " '.avi': 'Video_files',\n",
       " '.mov': 'Video_files',\n",
       " '.wmv': 'Video_files',\n",
       " '.flv': 'Video_files',\n",
       " '.zip': 'Compressed_Files',\n",
       " '.rar': 'Compressed_Files',\n",
       " '.7z': 'Compressed_Files',\n",
       " '.tar': 'Compressed_Files',\n",
       " '.gz': 'Compressed_Files',\n",
       " '.py': 'Programming_Files',\n",
       " '.js': 'Programming_Files',\n",
       " '.html': 'Programming_Files',\n",
       " '.css': 'Programming_Files',\n",
       " '.java': 'Programming_Files'}"
      ]
     },
     "execution_count": 11,
     "metadata": {},
     "output_type": "execute_result"
    }
   ],
   "source": [
    "Document_Files = [\".doc\", \".docx\", \".pdf\", \".txt\", \".rtf\", \".odt\"]\n",
    "Image_Files=[\".jpg\",\".jpeg\",\".png\",\".gif\",\".bmp\",\".tif\",\".tiff\"]\n",
    "Audio_Files=[\".mp3\",\".wav\",\".aac\",\".flac\",\".wma\"]\n",
    "Video_files=[\".mp4\",\".avi\",\".mov\",\".wmv\",\".flv\"]\n",
    "Compressed_Files=[\".zip\",\".rar\",\".7z\",\".tar\",\".gz\"]\n",
    "Programming_Files=[\".py\",\".js\",\".html\",\".css\",\".java\"]\n",
    "\n",
    "extention_dict={\n",
    "    \"Document_Files\":Document_Files,\n",
    "    \"Image_Files\":Image_Files,\n",
    "    \"Audio_Files\":Audio_Files,\n",
    "    \"Video_files\":Video_files,\n",
    "    \"Compressed_Files\":Compressed_Files,\n",
    "    \"Programming_Files\":Programming_Files,\n",
    "}\n",
    "\n",
    "optimized_extentions_dict = {}\n",
    "for category, extensions in extention_dict.items():\n",
    "    for extension in extensions:\n",
    "        optimized_extentions_dict[extension] = category\n",
    "\n",
    "optimized_extentions_dict"
   ]
  },
  {
   "cell_type": "code",
   "execution_count": 9,
   "metadata": {},
   "outputs": [
    {
     "data": {
      "text/plain": [
       "[['.doc', '.docx', '.pdf', '.txt', '.rtf', '.odt'],\n",
       " ['.jpg', '.jpeg', '.png', '.gif', '.bmp', '.tif', '.tiff'],\n",
       " ['.mp3', '.wav', '.aac', '.flac', '.wma'],\n",
       " ['.mp4', '.avi', '.mov', '.wmv', '.flv'],\n",
       " ['.zip', '.rar', '.7z', '.tar', '.gz'],\n",
       " ['.py', '.js', '.html', '.css', '.java']]"
      ]
     },
     "execution_count": 9,
     "metadata": {},
     "output_type": "execute_result"
    }
   ],
   "source": []
  },
  {
   "cell_type": "code",
   "execution_count": null,
   "metadata": {},
   "outputs": [],
   "source": []
  }
 ],
 "metadata": {
  "kernelspec": {
   "display_name": "Python 3",
   "language": "python",
   "name": "python3"
  },
  "language_info": {
   "codemirror_mode": {
    "name": "ipython",
    "version": 3
   },
   "file_extension": ".py",
   "mimetype": "text/x-python",
   "name": "python",
   "nbconvert_exporter": "python",
   "pygments_lexer": "ipython3",
   "version": "3.12.4"
  }
 },
 "nbformat": 4,
 "nbformat_minor": 2
}
