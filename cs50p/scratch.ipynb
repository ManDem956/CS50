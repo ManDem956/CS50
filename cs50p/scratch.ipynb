{
 "cells": [
  {
   "cell_type": "code",
   "execution_count": null,
   "metadata": {},
   "outputs": [],
   "source": [
    "# ((k+2)n-kn)/2\n",
    "\n",
    "sides = 3\n",
    "dimensions = 2\n",
    "((sides + 2) ** dimensions - sides**dimensions) / 2"
   ]
  },
  {
   "cell_type": "code",
   "execution_count": null,
   "metadata": {},
   "outputs": [],
   "source": [
    "(sides**dimensions - (sides - 1) ^ dimensions)"
   ]
  },
  {
   "cell_type": "code",
   "execution_count": null,
   "metadata": {},
   "outputs": [],
   "source": [
    "n = 2\n",
    "n * 3 ** (n - 1)"
   ]
  },
  {
   "cell_type": "code",
   "execution_count": null,
   "metadata": {},
   "outputs": [],
   "source": [
    "(5**dimensions - 3**dimensions) / 2.0"
   ]
  },
  {
   "cell_type": "code",
   "execution_count": null,
   "metadata": {},
   "outputs": [],
   "source": [
    "from itertools import combinations, permutations\n",
    "from typing import List\n",
    "import numpy as np\n",
    "\n",
    "board_size = 5\n",
    "board_dimensions = 4\n",
    "check_sum = ((board_size + 2) ** board_dimensions - board_size**board_dimensions) // 2\n",
    "\n",
    "array = np.arange(board_size**board_dimensions).reshape(board_size, *([board_size] * (board_dimensions - 1)))\n",
    "\n",
    "\n",
    "def reshape(array: np.ndarray, size, board_size):\n",
    "    reshape = np.prod(array.shape) // (size)\n",
    "    result = array.reshape(reshape, size)\n",
    "    return result\n",
    "\n",
    "\n",
    "def generate_diagonals(array: np.ndarray) -> np.ndarray:\n",
    "    result = []\n",
    "    board = array.copy()\n",
    "    axes = list(permutations(range(len(array.shape)), 2))\n",
    "    while axes:\n",
    "        diagonals = reshape(np.diagonal(board))\n",
    "        result.extend(diagonals.tolist())\n",
    "        if len(diagonals) == board_size:\n",
    "            diagonals = generate_diagonals(np.array(diagonals))\n",
    "            result.extend(diagonals)\n",
    "        array = np.rot90(board, axes=axes.pop())\n",
    "\n",
    "    return result  # type: ignore\n",
    "\n",
    "\n",
    "result = []\n",
    "board = array.copy()\n",
    "axes = list(permutations(range(board_dimensions), 2))\n",
    "while axes:\n",
    "    result.extend(reshape(board).tolist())\n",
    "    diags = generate_diagonals(board)\n",
    "    result.extend(diags)\n",
    "    board = np.rot90(array, axes=axes.pop())\n",
    "\n",
    "\n",
    "print(f\"{array=}\")\n",
    "\n",
    "result = set(tuple(sorted(item)) for item in result)\n",
    "\n",
    "print(result)\n",
    "print(f\"{check_sum == len(result)}, {check_sum = }, {len(result) = }\")"
   ]
  },
  {
   "cell_type": "code",
   "execution_count": null,
   "metadata": {},
   "outputs": [],
   "source": [
    "print(np.array([0, 4, 8]).shape)\n",
    "print(np.array([[0, 4, 8]]).shape)"
   ]
  },
  {
   "cell_type": "code",
   "execution_count": null,
   "metadata": {},
   "outputs": [],
   "source": [
    "from itertools import combinations, permutations\n",
    "from typing import List\n",
    "import numpy as np\n",
    "\n",
    "board_size = 3\n",
    "board_dimensions = 3\n",
    "check_sum = ((board_size + 2) ** board_dimensions - board_size**board_dimensions) // 2\n",
    "\n",
    "array = np.arange(board_size**board_dimensions).reshape(board_size, *([board_size] * (board_dimensions - 1)))\n",
    "\n",
    "print(array, sep=\"\\n\")"
   ]
  },
  {
   "cell_type": "code",
   "execution_count": null,
   "metadata": {},
   "outputs": [],
   "source": [
    "print(array)\n",
    "print()\n",
    "\n",
    "\n",
    "def reshape(array: np.ndarray, size = board_size):\n",
    "    reshape = np.prod(array.shape) // (size)\n",
    "    result = array.reshape(reshape, size)\n",
    "    return result\n",
    "\n",
    "\n",
    "def generate_diagonals(array: np.ndarray) -> np.ndarray:\n",
    "    result = []\n",
    "    diags = []\n",
    "    axes = list(permutations(range(len(array.shape)), 2))\n",
    "    while axes:\n",
    "        axis = axes.pop()\n",
    "        tmp = array.copy()\n",
    "        while True:\n",
    "            diags.extend(reshape(np.diagonal(tmp)).tolist())\n",
    "            result.extend(diags)\n",
    "            if len(diags) == board_size:\n",
    "                diags.extend(reshape(np.diagonal(diags)).tolist())\n",
    "                result.extend(diags)\n",
    "            tmp = np.rot90(tmp, axes=axis)\n",
    "            if np.array_equal(tmp, array):\n",
    "                break\n",
    "\n",
    "    tmp = set(tuple(sorted(item)) for item in diags)\n",
    "    print(f\"{tmp=}\")\n",
    "    return result  # type: ignore\n",
    "\n",
    "\n",
    "result = []\n",
    "axes = list(combinations(range(board_dimensions), 2))\n",
    "while axes:\n",
    "    axis = axes.pop()\n",
    "    print(axis)\n",
    "    tmp = array.copy()\n",
    "    print(tmp)\n",
    "    while True:\n",
    "        result.extend(reshape(tmp).tolist())\n",
    "        result.extend(generate_diagonals(tmp))\n",
    "        tmp = np.rot90(tmp, axes=axis)\n",
    "        if np.array_equal(tmp, array):\n",
    "            break\n",
    "\n",
    "result = set(tuple(sorted(item)) for item in result)\n",
    "\n",
    "print(f\"{check_sum == len(result)}, {check_sum = }, {len(result) = }\")"
   ]
  },
  {
   "cell_type": "code",
   "execution_count": null,
   "metadata": {},
   "outputs": [],
   "source": [
    "data = np.array(\n",
    "    [\n",
    "        [[[1, 2, 3], [4, 5, 6], [7, 8, 9]], [[10, 20, 30], [40, 50, 60], [70, 80, 90]]],\n",
    "        [\n",
    "            [[100, 200, 300], [400, 500, 600], [700, 800, 900]],\n",
    "            [[1000, 2000, 3000], [4000, 5000, 6000], [7000, 8000, 9000]],\n",
    "        ],\n",
    "    ]\n",
    ")\n",
    "\n",
    "print(data)\n",
    "print(data.reshape(-1, 3))\n",
    "print(data.reshape(-1, 3).tolist())\n",
    "print(data.reshape(-1, 2).tolist())"
   ]
  },
  {
   "cell_type": "code",
   "execution_count": null,
   "metadata": {},
   "outputs": [],
   "source": [
    "tuple(set(range(3**2)) ^ {5, 4, 6})"
   ]
  },
  {
   "cell_type": "code",
   "execution_count": null,
   "metadata": {},
   "outputs": [],
   "source": [
    "import requests\n",
    "\n",
    "response = requests.get(\"https://itunes.apple.com/search?entity=song&limit=1&term=\")"
   ]
  },
  {
   "cell_type": "code",
   "execution_count": null,
   "metadata": {},
   "outputs": [],
   "source": [
    "length = 2\n",
    "\n",
    "\n",
    "def get_expected(length, inception,):\n",
    "    if inception == 0:\n",
    "        return tuple(range(length))\n",
    "\n",
    "    return {key: get_expected(length, inception - 1) for key in range(length)}\n",
    "\n",
    "\n",
    "get_expected(4, 2)"
   ]
  },
  {
   "cell_type": "code",
   "execution_count": null,
   "metadata": {},
   "outputs": [],
   "source": [
    "import csv\n",
    "import os\n",
    "from tabulate import tabulate\n",
    "\n",
    "print(os.getcwd())\n",
    "with open(\"test.csv\") as csvfile:\n",
    "    reader: csv.DictReader = csv.DictReader(csvfile)\n",
    "    print(type(reader.fieldnames))\n",
    "    table = tabulate(reader, headers=reader.fieldnames, tablefmt=\"grid\")\n",
    "    print(table)"
   ]
  },
  {
   "cell_type": "code",
   "execution_count": null,
   "metadata": {},
   "outputs": [],
   "source": [
    "class Something:\n",
    "    def __init__(self, name: str = \"Groot\") -> None:\n",
    "        self._name = name\n",
    "\n",
    "    @property\n",
    "    def name(self) -> str:\n",
    "        return self._name\n",
    "\n",
    "    def hi(self) -> None:\n",
    "        return f\"I am {self._name}...\""
   ]
  },
  {
   "cell_type": "code",
   "execution_count": null,
   "metadata": {},
   "outputs": [],
   "source": [
    "groot = Something()\n",
    "groot.name = \"not a groot\"  # there is no setter\n",
    "print(groot.hi())"
   ]
  },
  {
   "cell_type": "code",
   "execution_count": null,
   "metadata": {},
   "outputs": [],
   "source": [
    "groot = Something()\n",
    "groot._name = \"not a groot\"  # but I do not really need it ;)\n",
    "print(groot.hi())"
   ]
  },
  {
   "cell_type": "code",
   "execution_count": null,
   "metadata": {},
   "outputs": [],
   "source": [
    "raise ValueError(\"test\")"
   ]
  },
  {
   "cell_type": "code",
   "execution_count": null,
   "metadata": {},
   "outputs": [],
   "source": [
    "from itertools import permutations\n",
    "import string\n",
    "\n",
    "test = \"z\" * 10\n",
    "\n",
    "UINT_MAX = 4294967295\n",
    "ULONG_MAX = 4294967295\n",
    "ULLONG_MAX = 18446744073709551615\n",
    "\n",
    "\n",
    "def hash(s: str, p=31, m=10000019):\n",
    "    # print(s)\n",
    "    pow = 0\n",
    "    p_pow = 1\n",
    "    sum = 0\n",
    "    sum_res = 0\n",
    "    for c in s[::-1]:\n",
    "        # print(f\"{c}={ord(c)}\")\n",
    "        if c != \"'\":\n",
    "            char_val = ord(c) - ord('a') + 1\n",
    "            # print(f\"{(p_pow * p) = }\\t{p_pow = }\\t{p**pow = }\")\n",
    "            # print(f\"{c}: {char_val = }\")\n",
    "            sum += char_val * (p**pow)\n",
    "            sum_res = (sum_res + char_val * (p**pow)) % m\n",
    "            p_pow = (p_pow * p) % m\n",
    "            pow += 1\n",
    "    result = sum % m\n",
    "    return sum, result, sum_res\n",
    "\n",
    "\n",
    "def hash_max(length:int):\n",
    "    str = string.ascii_lowercase+\"'\"\n",
    "    perms = permutations(str, length)\n",
    "    perms_iter = iter(perms)\n",
    "    max_val = 0\n",
    "    max_test = \"\"\n",
    "    for perm in perms_iter:\n",
    "        test = \"\".join(perm)\n",
    "        s_hash = hash(test)[1]\n",
    "        max_val = max_val if max_val> s_hash else s_hash\n",
    "        max_test = max_test if max_val> s_hash else test\n",
    "    print(f\"{max_test}: {max_val}\")\n",
    "\n",
    "for i in range(5, 20):\n",
    "    print(f\"=== Length: {i}: ===\")\n",
    "    tst = \"z\" * (i-1)+\"'\"\n",
    "    # tst = \"z\" * (i)\n",
    "    # tst = \"z\" + \"'\"* (i-1)\n",
    "    sum, s_hash, s_hash_progressive = hash(tst)\n",
    "    print(f\"\\t{sum = :,}\\t\\t{s_hash = :,}\\t\\t{s_hash_progressive = :,}\")\n",
    "    print(f\"\\t{sum< UINT_MAX = }\\t\\t{s_hash< UINT_MAX = }\")\n",
    "    print(f\"\\t{sum< ULONG_MAX = }\\t\\t{s_hash< ULONG_MAX = }\")\n",
    "    print(f\"\\t{sum< ULLONG_MAX = }\\t\\t{s_hash< ULLONG_MAX = }\")\n",
    "    print(f\"\\t{s_hash*8 = :,}\")"
   ]
  },
  {
   "cell_type": "code",
   "execution_count": null,
   "metadata": {},
   "outputs": [],
   "source": [
    "from itertools import permutations\n",
    "import string\n",
    "\n",
    "UINT_MAX = 4294967295\n",
    "ULONG_MAX = 4294967295\n",
    "ULLONG_MAX = 18446744073709551615\n",
    "\n",
    "multiplier = string.ascii_lowercase+\"'\"\n",
    "perms = permutations(multiplier, 8)\n",
    "perms_iter = iter(perms)\n",
    "print(\"\".join(next(perms_iter)))"
   ]
  },
  {
   "cell_type": "code",
   "execution_count": null,
   "metadata": {},
   "outputs": [],
   "source": [
    "p_pow=1\n",
    "p=31\n",
    "def get_ppow(len:int, p_pow=1, p=31):\n",
    "    while len > 0:\n",
    "        yield p_pow\n",
    "        p_pow = (p_pow * p)\n",
    "        len-=1\n",
    "\n",
    "for idx, pp in enumerate(get_ppow(20)):\n",
    "    print(f\"{idx} :: {pp:,} : {pp < UINT_MAX =} : {pp < ULONG_MAX = } : {pp < ULLONG_MAX =}\")    \n"
   ]
  },
  {
   "cell_type": "code",
   "execution_count": null,
   "metadata": {},
   "outputs": [],
   "source": [
    "UINT_MAX = 4294967295\n",
    "ULONG_MAX = 4294967295\n",
    "ULLONG_MAX = 18446744073709551615\n",
    "\n",
    "m=(10**7)\n",
    "print(f\"{m:,} : {m < UINT_MAX =} : {m < ULONG_MAX = } : {m < ULLONG_MAX =}\") \n",
    "m=(2**20)\n",
    "print(f\"{m:,} : {m < UINT_MAX =} : {m < ULONG_MAX = } : {m < ULLONG_MAX =}\") \n",
    "\n",
    "m=(2**19)\n",
    "print(f\"{m:,} : {m < UINT_MAX =} : {m < ULONG_MAX = } : {m < ULLONG_MAX =}\") \n",
    "m=(2**18)\n",
    "print(f\"{m:,} : {m < UINT_MAX =} : {m < ULONG_MAX = } : {m < ULLONG_MAX =}\") "
   ]
  },
  {
   "cell_type": "code",
   "execution_count": null,
   "metadata": {},
   "outputs": [],
   "source": [
    "accept = (10, 20 , 30)\n",
    "\n",
    "def is_valid(x, accept: tuple):\n",
    "    return (x in accept)\n",
    "\n",
    "print(f\"{is_valid(1, accept) = }\")\n",
    "print(f\"{is_valid(10, accept) = }\")\n",
    "print(f\"{is_valid(11, accept) = }\")\n",
    "print(f\"{is_valid(210, accept) = }\")\n",
    "print(f\"{is_valid(20, accept) = }\")\n",
    "print(f\"{is_valid(30, accept) = }\")"
   ]
  },
  {
   "cell_type": "code",
   "execution_count": null,
   "metadata": {},
   "outputs": [],
   "source": [
    "from collections.abc import Callable as abc_Callable\n",
    "import sys\n",
    "from typing import Callable\n",
    "\n",
    "print(f\"{type(sys.exit)=}\")\n",
    "print(f\"{isinstance(sys.exit, Callable)=}\")\n",
    "print(f\"{isinstance(sys.exit, abc_Callable)=}\")\n"
   ]
  },
  {
   "cell_type": "code",
   "execution_count": null,
   "metadata": {},
   "outputs": [],
   "source": [
    "from collections.abc import Callable as abc_Callable\n",
    "import sys\n",
    "from typing import Callable\n",
    "\n",
    "print(f\"{type(print)=}\")\n",
    "print(f\"{isinstance(print, Callable)=}\")\n",
    "print(f\"{isinstance(print, abc_Callable)=}\")\n",
    "print(f\"{print.__class__.__base__=}\")\n",
    "\n",
    "print(f\"{type(object)=}\")\n",
    "print(f\"{isinstance(object, Callable)=}\")\n",
    "print(f\"{isinstance(object, abc_Callable)=}\")\n",
    "print(f\"{object.__class__.__bases__=}\")\n"
   ]
  },
  {
   "cell_type": "code",
   "execution_count": null,
   "metadata": {},
   "outputs": [],
   "source": [
    "s = \"ABS00.10\"\n",
    "index = s.index('0')\n",
    "s[-index:]\n",
    "s[-index:].isalnum()"
   ]
  },
  {
   "cell_type": "code",
   "execution_count": null,
   "metadata": {},
   "outputs": [],
   "source": [
    "import os\n",
    "import sys\n",
    "# sys.exit(os.EX_OSERR)\n",
    "\n",
    "print(f\"{os.EX_OK=}\")\n",
    "print(f\"{os.EX_USAGE=}\")\n",
    "print(f\"{os.EX_DATAERR=}\")\n",
    "print(f\"{os.EX_NOINPUT=}\")\n",
    "print(f\"{os.EX_NOUSER=}\")\n",
    "print(f\"{os.EX_NOHOST=}\")\n",
    "print(f\"{os.EX_UNAVAILABLE=}\")\n",
    "print(f\"{os.EX_SOFTWARE=}\")\n",
    "print(f\"{os.EX_OSERR=}\")\n",
    "print(f\"{os.EX_OSFILE=}\")\n",
    "print(f\"{os.EX_CANTCREAT=}\")\n",
    "print(f\"{os.EX_IOERR=}\")\n",
    "print(f\"{os.EX_TEMPFAIL=}\")\n",
    "print(f\"{os.EX_PROTOCOL=}\")\n",
    "print(f\"{os.EX_NOPERM=}\")\n",
    "print(f\"{os.EX_CONFIG=}\")\n"
   ]
  },
  {
   "cell_type": "code",
   "execution_count": null,
   "metadata": {},
   "outputs": [],
   "source": [
    "import os\n",
    "type(os)\n",
    "\n",
    "os.path.abspath(\"file.txt\")"
   ]
  },
  {
   "cell_type": "code",
   "execution_count": null,
   "metadata": {},
   "outputs": [],
   "source": [
    "import check50\n",
    "import os\n",
    "print(os.path.abspath(\"scratch.ipynb\"))\n",
    "check50.include(f\"scratch.ipynb\")"
   ]
  },
  {
   "cell_type": "code",
   "execution_count": null,
   "metadata": {},
   "outputs": [],
   "source": [
    "import re\n",
    "def parse(s):\n",
    "    if url := re.search(r'''<iframe (?:.+)?src=\"https?://www.youtube.com/embed/(.+?)\"(?: .+)?></iframe>''',s,re.IGNORECASE): \n",
    "        return \"https://youtu.be/\" + url.group (1)\n",
    "    \n",
    "print(parse('<iframe src=\"https://www.youtube.com/embed/xvFZjo5PgG0\"></iframe>'))\n",
    "print(parse('<iframe width=\"560\" height=\"315\" src=\"https://www.youtube.com/embed/xvFZjo5PgG0\" title=\"YouTube video player\" frameborder=\"0\" allow=\"accelerometer; autoplay; clipboard-write; encrypted-media; gyroscope; picture-in-picture\" allowfullscreen></iframe>'))\n",
    "print(parse('<iframe src=\"http://www.youtube.com/embed/xvFZjo5PgG0\"></iframe>'))\n",
    "print(parse('<iframe width=\"560\" height=\"315\" src=\"http://www.youtube.com/embed/xvFZjo5PgG0\" title=\"YouTube video player\" frameborder=\"0\" allow=\"accelerometer; autoplay; clipboard-write; encrypted-media; gyroscope; picture-in-picture\" allowfullscreen></iframe>'))\n",
    "print(parse('<iframe src=\"http://youtube.com/embed/xvFZjo5PgG0\"></iframe>'))\n",
    "print(parse('<iframe width=\"560\" height=\"315\" src=\"http://youtube.com/embed/xvFZjo5PgG0\" title=\"YouTube video player\" frameborder=\"0\" allow=\"accelerometer; autoplay; clipboard-write; encrypted-media; gyroscope; picture-in-picture\" allowfullscreen></iframe>'))\n",
    "\n",
    "\n"
   ]
  },
  {
   "cell_type": "code",
   "execution_count": null,
   "metadata": {},
   "outputs": [],
   "source": [
    "import inflect\n",
    "p = inflect.engine()\n",
    "print(f\"{p.number_to_words(6092640, andword=\"\")} minutes\".capitalize())"
   ]
  },
  {
   "cell_type": "code",
   "execution_count": null,
   "metadata": {},
   "outputs": [],
   "source": [
    "a = tuple(range(9))\n",
    "b = tuple(range(4))\n",
    "a ^ b"
   ]
  },
  {
   "cell_type": "code",
   "execution_count": null,
   "metadata": {},
   "outputs": [],
   "source": [
    "class test:\n",
    "    __value: int = 10\n",
    "\n",
    "    def __init__(self, value) -> None:\n",
    "        self.__value = value\n",
    "\n",
    "    @property\n",
    "    def value(self):\n",
    "       return self.__value\n",
    "\n",
    "tst = test(200)\n",
    "print(f\"{tst.value = }\")\n",
    "\n",
    "\n",
    "print(\"before '__value = 100':\", *filter(lambda x: \"value\" in x, dir(tst)), sep = \"\\n\\t\")\n",
    "tst.__value = 100\n",
    "\n",
    "print(\"after '__value = 100':\", *filter(lambda x: \"value\" in x, dir(tst)), sep = \"\\n\\t\")\n",
    "\n",
    "tst._test__value = 1000\n",
    "print()\n",
    "print(f\"{tst.__value = }\")\n",
    "print(f\"{tst.value = }\")\n",
    "print(f\"{tst._test__value = }\")\n"
   ]
  },
  {
   "cell_type": "code",
   "execution_count": null,
   "metadata": {},
   "outputs": [],
   "source": []
  },
  {
   "cell_type": "code",
   "execution_count": null,
   "metadata": {},
   "outputs": [],
   "source": [
    "from dataclasses import dataclass, field\n",
    "\n",
    "\n",
    "@dataclass\n",
    "class test_data:\n",
    "    value:int = 10\n",
    "\n",
    "tst = test_data()\n",
    "tst.value\n",
    "dir(tst)"
   ]
  },
  {
   "cell_type": "code",
   "execution_count": null,
   "metadata": {},
   "outputs": [],
   "source": [
    "a = \"3.14\"\n",
    "a.isnumeric()"
   ]
  },
  {
   "cell_type": "code",
   "execution_count": null,
   "metadata": {},
   "outputs": [],
   "source": [
    "class MyClass():\n",
    "    _value1 = \"value1 from class definition\"\n",
    "\n",
    "    def __init__(self, value1, value2) -> None:\n",
    "        self._value1 = value1\n",
    "        self._value2 = value2\n",
    "\n",
    "    @classmethod\n",
    "    def class_method(cls, msg: str):\n",
    "        print(f\"{msg}:\\t`{cls._value1=}`\")\n",
    "\n",
    "    def instance_method(self, msg: str):\n",
    "        print(f\"{msg}:\\t`{self._value1=}`\")\n",
    "        print(f\"{msg}:\\t`{self._value2=}`\")\n",
    "\n",
    "\n",
    "var = MyClass(\"value1 from init\", \"value2 from init\")\n",
    "\n",
    "MyClass.class_method(\"Calling class method from CLASS\")\n",
    "var.class_method(\"Calling class method from INSTANCE\")\n",
    "var.instance_method(\"Calling instance method from INSTANCE\")"
   ]
  },
  {
   "cell_type": "code",
   "execution_count": null,
   "metadata": {},
   "outputs": [],
   "source": [
    "class Person:\n",
    "    def __init__(self, first, last) -> None:\n",
    "        self.first_name = first\n",
    "        self.last_name = last\n",
    "\n",
    "    @property\n",
    "    def full_name(self):\n",
    "        return f\"{self.first_name} {self.last_name}\"\n",
    "    \n",
    "john = Person(\"John\", \"Doe\")\n",
    "print(f\"{john.full_name=}\")"
   ]
  },
  {
   "cell_type": "code",
   "execution_count": null,
   "metadata": {},
   "outputs": [],
   "source": [
    "class PersonFullName:\n",
    "    def __init__(self, name) -> None:\n",
    "        self.name = name\n",
    "\n",
    "    @property\n",
    "    def first_name(self):\n",
    "        return f\"{self.name.split()[0]}\"\n",
    "    \n",
    "    @property\n",
    "    def last_name(self):\n",
    "        return f\"{self.name.split()[1]}\"\n",
    "\n",
    "    \n",
    "john = PersonFullName(\"John Doe\")\n",
    "print(f\"{john.first_name=}\")\n",
    "print(f\"{john.last_name=}\")"
   ]
  },
  {
   "cell_type": "code",
   "execution_count": null,
   "metadata": {},
   "outputs": [],
   "source": [
    "class Person:\n",
    "    def __init__(self, first, last) -> None:\n",
    "        self.first_name = first\n",
    "        self.last_name = last\n",
    "\n",
    "john = Person(\"John\", \"Doe\")\n",
    "\n",
    "full_name = \" \".join((john.first_name, john.last_name))\n",
    "print(f\"{full_name=}\")"
   ]
  },
  {
   "cell_type": "code",
   "execution_count": null,
   "metadata": {},
   "outputs": [],
   "source": [
    "my_dict = {}\n",
    "my_dict[\"key1\"] = \"value1\"\n",
    "print(f\"{my_dict[\"key1\"] = }\")\n",
    "print(f\"{my_dict[\"key2\"] = }\")"
   ]
  },
  {
   "cell_type": "code",
   "execution_count": null,
   "metadata": {},
   "outputs": [],
   "source": [
    "print(f\"{my_dict.get(\"key2\") = }\")\n",
    "print(f\"{my_dict.get(\"key2\", \"default value\") = }\")"
   ]
  },
  {
   "cell_type": "code",
   "execution_count": null,
   "metadata": {},
   "outputs": [],
   "source": [
    "keys = (\"key1\", \"key2\")\n",
    "for key in keys:\n",
    "    if key in my_dict:\n",
    "        print(f\"{my_dict[key] = }\")"
   ]
  },
  {
   "cell_type": "code",
   "execution_count": null,
   "metadata": {},
   "outputs": [],
   "source": [
    "multiplier = \"#AFFF90\"\n",
    "values = (int(multiplier[i:i+2], 16) for i in range(1,7,2))\n",
    "print(*values)"
   ]
  },
  {
   "cell_type": "code",
   "execution_count": null,
   "metadata": {},
   "outputs": [],
   "source": [
    "import datetime\n",
    "\n",
    "\n",
    "print(datetime.datetime.now())\n",
    "print(datetime.date.today())"
   ]
  },
  {
   "cell_type": "code",
   "execution_count": null,
   "metadata": {},
   "outputs": [],
   "source": [
    "from typing import Sequence\n",
    "\n",
    "\n",
    "class Typed[T]:\n",
    "    def __init__(self, items: Sequence[T]) -> None:\n",
    "        self._items = items\n",
    "\n",
    "    def __getitem__(self, idx: slice | int) -> 'Typed[T]' | T:\n",
    "        if isinstance(idx, slice):\n",
    "            return Typed(self._items[idx])\n",
    "        return self._items[idx]\n",
    "\n",
    "    def __repr__(self) -> str:\n",
    "        return f\"{type(self).__name__}({self._items})\"\n",
    "\n",
    "\n",
    "inst = Typed([1, 2, 3, 4, 5, 6, 7])\n",
    "print(type(inst))\n",
    "print(type(inst[1]))\n",
    "print(inst[1])\n",
    "\n",
    "print(inst[1:4])\n",
    "print(type(inst[1:2]))"
   ]
  },
  {
   "cell_type": "code",
   "execution_count": null,
   "metadata": {},
   "outputs": [],
   "source": [
    "class Person:\n",
    "    def __init__(self, value: str) -> None:\n",
    "        self._value = value\n",
    "\n",
    "    def foo(self) -> str:\n",
    "        return f\"Parent class says: `{self._value}` from {type(self).__name__}\"\n",
    "    \n",
    "class TestChild(Person):\n",
    "    def foo(self) -> str:\n",
    "        return f\"Child class says: `{self._value}` from {type(self).__name__}\"\n",
    "\n",
    "\n",
    "\n",
    "test = Person(\"test\")\n",
    "test_child = TestChild(\"test\")\n",
    "print(test.foo())\n",
    "print(test_child.foo())"
   ]
  },
  {
   "cell_type": "code",
   "execution_count": null,
   "metadata": {},
   "outputs": [],
   "source": [
    "import requests\n",
    "import pprint\n",
    "\n",
    "CONST_GOOGLE = \"https://google.com\"\n",
    "CONST_BITCOIN_ENDPOINT = \"https://api.coindesk.com/v1/bpi/currentprice.json\"\n",
    "\n",
    "\n",
    "def do_get(url: str):\n",
    "\n",
    "    result = requests.get(url)\n",
    "    print()\n",
    "    print(f\"Result of {url}: {result.content}\")\n",
    "    try:\n",
    "        print(\"JSON Body: \", end=\"\")\n",
    "        pprint.pprint(result.json())\n",
    "    except requests.JSONDecodeError:\n",
    "        print(\"ERROR: Response content is not a balid JSON\")\n",
    "\n",
    "\n",
    "do_get(CONST_GOOGLE)\n",
    "do_get(CONST_BITCOIN_ENDPOINT)"
   ]
  },
  {
   "cell_type": "code",
   "execution_count": null,
   "metadata": {},
   "outputs": [],
   "source": [
    "\"HELLO\".startswith(\"hello\")"
   ]
  },
  {
   "cell_type": "code",
   "execution_count": null,
   "metadata": {},
   "outputs": [],
   "source": [
    "import check50\n",
    "check50.hash()\n"
   ]
  },
  {
   "cell_type": "code",
   "execution_count": null,
   "metadata": {},
   "outputs": [],
   "source": [
    "import random\n",
    "n = 1\n",
    "random.randrange(1,n)"
   ]
  },
  {
   "cell_type": "code",
   "execution_count": null,
   "metadata": {},
   "outputs": [],
   "source": [
    "level = None\n",
    "if level not in [1, 2, 3]:\n",
    "    print(\"not it!\")"
   ]
  },
  {
   "cell_type": "code",
   "execution_count": null,
   "metadata": {},
   "outputs": [],
   "source": [
    "def ternary(multiplier):    \n",
    "    return \"ten\" if multiplier == 1 else 10*multiplier # ternary conditttional operator example\n",
    "\n",
    "\n",
    "print(ternary(0))\n",
    "print(ternary(1))\n",
    "print(ternary(2))\n",
    "print(ternary(3))"
   ]
  },
  {
   "cell_type": "code",
   "execution_count": null,
   "metadata": {},
   "outputs": [],
   "source": [
    "{i: (10**(i-1), 10**i) if i>1 else (10,) for i in range(1, 101)}"
   ]
  },
  {
   "cell_type": "code",
   "execution_count": null,
   "metadata": {},
   "outputs": [],
   "source": [
    "addresses = [\"123, Broadway blvd\",\n",
    "             \"456, Uni st., Campus 30D\"] \n",
    "\n",
    "for address in addresses:\n",
    "    building_no, *street_name = address.split(\", \")\n",
    "    print(f\"Full split: {building_no=}, {street_name=}\")\n",
    "\n",
    "print()\n",
    "\n",
    "for address in addresses:\n",
    "    building_no, street_name = address.split(\", \", 1)\n",
    "    print(f\"1-time split: {building_no=}, {street_name=}\")"
   ]
  },
  {
   "cell_type": "code",
   "execution_count": null,
   "metadata": {},
   "outputs": [],
   "source": [
    "values = (\"test\", \"test,\", \"test?\", \"test!\", \"CS50\", \"CS50!\")\n",
    "for value in values:\n",
    "    print(f\"`{value}` : {value.isalpha()=}\")  # check if string contain only letters\n",
    "    print(f\"`{value}` : {value.isalnum()=}\")  # check if string contain only letters and numbers"
   ]
  },
  {
   "cell_type": "code",
   "execution_count": null,
   "metadata": {},
   "outputs": [],
   "source": [
    "from string import punctuation\n",
    "print(punctuation)"
   ]
  },
  {
   "cell_type": "code",
   "execution_count": null,
   "metadata": {},
   "outputs": [],
   "source": [
    "\n",
    "import inspect\n",
    "\n",
    "from datetime import datetime\n",
    "print(f\"{datetime}\")\n",
    "print(f\"{datetime.date}\")\n",
    "print(f\"{[item for item in inspect.getmembers(datetime.date) if 'today' in item]}\")\n",
    "\n",
    "print()\n",
    "\n",
    "import datetime\n",
    "print(f\"{datetime}\")\n",
    "print(f\"{datetime.date}\")\n",
    "print(f\"{[item for item in inspect.getmembers(datetime.date) if 'today' in item]}\")\n",
    "\n"
   ]
  },
  {
   "cell_type": "code",
   "execution_count": null,
   "metadata": {},
   "outputs": [],
   "source": [
    "import random\n",
    "random.seed(42)\n",
    "print([(random.randrange(10), random.randrange(10)) for _ in range(10) ])"
   ]
  },
  {
   "cell_type": "code",
   "execution_count": null,
   "metadata": {},
   "outputs": [],
   "source": [
    "import datetime\n",
    "userdate = \"2001-10-30\"\n",
    "print(datetime.date.fromisoformat(userdate))\n",
    "# datetime.date(userdate)\n",
    "datetime.datetime.strptime(userdate, \"%Y-%m-%d\")"
   ]
  },
  {
   "cell_type": "code",
   "execution_count": null,
   "metadata": {},
   "outputs": [],
   "source": [
    "import re\n",
    "REGEX = r\"\\b(?:(1[0-2]|0?[1-9])(?::([0-5][0-9])?)?)\\s((?:AM|PM))(?:\\s(to)\\s)?\"\n",
    "words = \"10:29 AM to 1:20 PM\"\n",
    "\n",
    "matches = re.finditer(REGEX, words, flags=re.I | re.X) # returns an iterator of Match() objects\n",
    "for idx, match in enumerate(matches):\n",
    "    print(f\"{type(match)= }\")\n",
    "    # match.groups return groups as a tuple\n",
    "    print(f\"Match {idx} : {\"Groups without parameter:\":<30}{match.groups() = }\")\n",
    "    print(f\"Match {idx} : {\"Groups with default:\":<30}{match.groups(\"nothing\") = }\")\n",
    "    print()\n",
    "    #  match.group return the grous as a string\n",
    "    print(f\"Match {idx} : {\"Group is full match: \":<30}{match.group() = }\")\n",
    "    print(f\"Match {idx} : {\"Index zero is the same: \":<30}{match.group(0) = }\")\n",
    "    print(f\"Match {idx} : {\"group 1: \":<30}{match.group(1) = }\")\n",
    "    print(f\"Match {idx} : {\"group 2: \":<30}{match.group(2) = }\")\n",
    "    print(f\"Match {idx} : {\"group 3: \":<30}{match.group(3) = }\")\n",
    "    print(f\"Match {idx} : {\"group 4: \":<30}{match.group(4) = }\")\n",
    "    print()"
   ]
  },
  {
   "cell_type": "code",
   "execution_count": null,
   "metadata": {},
   "outputs": [],
   "source": [
    "numbers = (0, 1, 2, 3, 4, 5, 6, 7, 8, 9)\n",
    "for i in range(len(numbers)):\n",
    "    print(f\"{i}: {numbers[i]}\")\n",
    "\n",
    "for idx, number in enumerate(numbers, 100):\n",
    "    print(f\"{idx}: {number}\")\n"
   ]
  },
  {
   "cell_type": "code",
   "execution_count": null,
   "metadata": {},
   "outputs": [],
   "source": [
    "print(\"string\" == (\"string\"))\n",
    "print(\"string\" == (\"string\",))"
   ]
  },
  {
   "cell_type": "code",
   "execution_count": null,
   "metadata": {},
   "outputs": [],
   "source": [
    "import re\n",
    "REGEX = r'(\\w+)'\n",
    "re.findall(REGEX, \"I am Groot.\")"
   ]
  },
  {
   "cell_type": "code",
   "execution_count": null,
   "metadata": {},
   "outputs": [],
   "source": [
    "import re\n",
    "REGEX = r'(\\w+)'\n",
    "reg_expression = re.compile(REGEX, flags=re.IGNORECASE)\n",
    "\n",
    "print(re.findall(reg_expression, \"I am Groot.\"))\n",
    "\n",
    "print(reg_expression.findall(\"I am Groot.\"))"
   ]
  },
  {
   "cell_type": "code",
   "execution_count": null,
   "metadata": {},
   "outputs": [],
   "source": [
    "fieldnames = {\"first\", \"last\", \"house\"}\n",
    "fieldnames"
   ]
  },
  {
   "cell_type": "code",
   "execution_count": null,
   "metadata": {},
   "outputs": [],
   "source": [
    "fieldnames = (\"first\", \"last\", \"house\")     # just a tuple\n",
    "filednames_set = set(fieldnames)            # set created from tuple\n",
    "\n",
    "\"\"\"\n",
    "Simulate set behavior (approximation).\n",
    "\n",
    "Set order depends on element has. In this sim, we use (<element hash> modulo <set size>)\n",
    "Default set size is 8. \n",
    "The set size is increased incrementally upon adding new elements.\n",
    "We do not do this in this simulation\n",
    "\n",
    "If there are lesser elements added than the set size empty indicies are set to `None`.\n",
    "\"\"\"\n",
    "\n",
    "# in real life, in case of hash collisions, each index will store a list of values\n",
    "# but we simplify it a bit\n",
    "sim_inner_dictionary = {hash(fieldname) % 8: fieldname for fieldname in fieldnames} \n",
    "\n",
    "sim_inner_list = [sim_inner_dictionary.get(i) for i in range(8)]\n",
    "fieldnames_set_simulate = [sim_inner_list[i] for i in range(8) if sim_inner_list[i] is not None]\n",
    "\n",
    "filler = 30\n",
    "print(f\"{\"original tuple:\":<{filler}}{fieldnames}\")\n",
    "print(f\"{\"set from tuple:\":<{filler}}{filednames_set}\")\n",
    "print()\n",
    "print(f\"{\"approximate inner structure:\":<{filler}}{sim_inner_list}\")\n",
    "print(f\"{\"simulated set:\":<{filler}}{fieldnames_set_simulate}\")"
   ]
  },
  {
   "cell_type": "code",
   "execution_count": null,
   "metadata": {},
   "outputs": [],
   "source": [
    "people = [{\"first\": \"John\", \"last\": \"Doe\"}, {\"first\": \"Jane\", \"last\": \"Doe\"}]\n",
    "\n",
    "for person in people:\n",
    "    person[\"full_name\"] = f\"{person[\"first\"]} {person[\"last\"]}\"\n",
    "\n",
    "print(*people, sep = \"\\n\")"
   ]
  },
  {
   "cell_type": "code",
   "execution_count": null,
   "metadata": {},
   "outputs": [],
   "source": [
    "pad = 40\n",
    "print(f\"{\"float result: \":<{pad}}{(2/3 * 100) = }\")\n",
    "print(f\"{\"round with no decimal points: \":<{pad}}{round(2/3 * 100) = }\")        # round with no decimal points\n",
    "print(f\"{\"convert tot int, lose decimal part: \":<{pad}}{int(2/3 * 100) = }\")    # convert to `int`, e.g. lose the decimal part"
   ]
  },
  {
   "cell_type": "code",
   "execution_count": null,
   "metadata": {},
   "outputs": [],
   "source": [
    "print(f\"{round(65.5) = }\")\n",
    "print(f\"{round(66.5) = }\")\n",
    "print(f\"{round(67.5) = }\")"
   ]
  },
  {
   "cell_type": "code",
   "execution_count": null,
   "metadata": {},
   "outputs": [],
   "source": [
    "val = round(2/3 * 100)\n",
    "print(f\"{\"without precision:\":<20} {type(val)}, {val}\")\n",
    "val = round(2/3 * 100, 2)\n",
    "print(f\"{\"with precision:\":<20} {type(val)}, {val}\")"
   ]
  },
  {
   "cell_type": "code",
   "execution_count": null,
   "metadata": {},
   "outputs": [],
   "source": [
    "names = [\"Thomas\", \"Anny\", \"Angel\", ]\n",
    "print(\"Adieu, adieu, to\", names[0], end = '')\n",
    "for name in names[1:-1]:\n",
    "    print(\", \" + name,end = '')\n",
    "if len(names) != 1:\n",
    "    print( \" and \" + names[-1])\n",
    "else:\n",
    "    print()"
   ]
  },
  {
   "cell_type": "code",
   "execution_count": null,
   "metadata": {},
   "outputs": [],
   "source": [
    "import sys\n",
    "\n",
    "\n",
    "try:\n",
    "    result = 0/0  # raises a ZeroDivisionError\n",
    "except ZeroDivisionError as e:\n",
    "    print(\"You can not divide by zero, an you?\", file=sys.stderr)"
   ]
  },
  {
   "cell_type": "code",
   "execution_count": null,
   "metadata": {},
   "outputs": [],
   "source": [
    "import random\n",
    "random.seed(0)\n",
    "print(random.randrange(10, 100), random.randrange(10, 100))\n",
    "random.seed(0)\n",
    "print(random.randint(10, 100), random.randint(10, 100))\n"
   ]
  },
  {
   "cell_type": "code",
   "execution_count": null,
   "metadata": {},
   "outputs": [],
   "source": []
  },
  {
   "cell_type": "code",
   "execution_count": null,
   "metadata": {},
   "outputs": [],
   "source": [
    "people = [{\"first\": \"John\", \"last\": \"Doe\"}, {\"first\": \"Jane\", \"last\": \"Doe\"}]\n",
    "\n",
    "for person in people:\n",
    "    person[\"full_name\"] = f\"{person[\"first\"]} {person[\"last\"]}\"\n",
    "\n",
    "print(*people, sep = \"\\n\")"
   ]
  },
  {
   "cell_type": "code",
   "execution_count": null,
   "metadata": {},
   "outputs": [],
   "source": [
    "def chunked(iterable, n):\n",
    "    return zip(*([iter(iterable)] * n))\n",
    "\n",
    "print(*chunked(list(range(100)), 10), sep=\"\\n\")"
   ]
  },
  {
   "cell_type": "code",
   "execution_count": null,
   "metadata": {},
   "outputs": [],
   "source": [
    "class list(list):\n",
    "\n",
    "    def __bool__(self):        \n",
    "        return True     # if object is created, it cannot be None, so we always return True\n",
    "    \n",
    "a = list()\n",
    "if a:\n",
    "    print(f\"from if: {a = }\")\n",
    "\n",
    "print(f\"{type(a)=} {a = }\")\n",
    "b = []\n",
    "print(f\"{type(b)=} {b = }\")"
   ]
  },
  {
   "cell_type": "code",
   "execution_count": null,
   "metadata": {},
   "outputs": [],
   "source": [
    "class Person:\n",
    "    def __init__(self, first_name, last_name) -> None:\n",
    "        self.first_name = first_name\n",
    "        self.last_name = last_name\n",
    "\n",
    "    def full_name(self) -> None:\n",
    "        return f\"{self.first_name} {self.last_name}\"\n",
    "\n",
    "\n",
    "test = Person(\"John\", \"Doe\")\n",
    "print(f\"{test.full_name() = }\")             # fill _name is accessible via instance method full_name()\n",
    "\n",
    "test.first_name = \"Jennifer\"                # user can freely modify first_name\n",
    "test.last_name = \"Dowson\"                   # user can freely modify last_name\n",
    "\n",
    "print(f\"{test.full_name() = }\")"
   ]
  },
  {
   "cell_type": "code",
   "execution_count": null,
   "metadata": {},
   "outputs": [],
   "source": [
    "class Person:\n",
    "    def __init__(self, first_name, last_name) -> None:\n",
    "        self.__first_name = first_name\n",
    "        self.__last_name = last_name\n",
    "\n",
    "\n",
    "    @setter\n",
    "    def first_name(self, value):\n",
    "        self.__first_name = value\n",
    "\n",
    "    @property\n",
    "    def last_name(self):\n",
    "        return self.__last_name\n",
    "\n",
    "    @property\n",
    "    def full_name(self) -> None:\n",
    "        return f\"{self.first_name} {self.last_name}\"\n",
    "\n",
    "\n",
    "test = Person(\"John\", \"Doe\")\n",
    "print(f\"{test.full_name=}\")             # fill _name is accessible via instance method full_name (no parentheses)\n",
    "print(f\"{test.first_name=}\")\n",
    "print(f\"{test.last_name=}\")\n",
    "\n",
    "test.first_name = \"Jennifer\"                # user can not freely modify first_name\n",
    "# am exception is raised: AttributeError: property 'first_name' of 'Test' object has no setter\n",
    "test.last_name = \"Dowson\"\n",
    "\n",
    "print(f\"{test.full_name=}\")"
   ]
  },
  {
   "cell_type": "code",
   "execution_count": null,
   "metadata": {},
   "outputs": [],
   "source": [
    "a = tuple()\n",
    "v = lisf()"
   ]
  },
  {
   "cell_type": "code",
   "execution_count": null,
   "metadata": {},
   "outputs": [],
   "source": [
    "import dis\n",
    "\n",
    "\n",
    "dis.dis('[]')\n"
   ]
  },
  {
   "cell_type": "code",
   "execution_count": null,
   "metadata": {},
   "outputs": [],
   "source": [
    "dis.dis('list()')"
   ]
  },
  {
   "cell_type": "code",
   "execution_count": null,
   "metadata": {},
   "outputs": [],
   "source": [
    "class Monster:\n",
    "    def get_HP(self):\n",
    "        return self._hp\n",
    "\n",
    "    def set_hp(self, new_hp):\n",
    "        self._hp = new_hp\n",
    "\n",
    "\n",
    "class FallenMage(Monster):\n",
    "    @property(fset=weapon)\n",
    "    def weapon(self, new_weapon):\n",
    "        if new_weapon in [None, \"Ice Staff\", \"Fire Wand\", \"Lightning Dagger\"]:\n",
    "            self._weapon = new_weapon\n",
    "        else:\n",
    "            raise ValueError(f\"Fallen Mage may not wield {new_weapon}!\")\n",
    "        \n",
    "\n",
    "randalf = FallenMage()\n",
    "weapons = [\"toothpick\", \"Ice Staff\"]\n",
    "try:\n",
    "    for weapon in weapons:\n",
    "        randalf.weapon = weapon\n",
    "except ValueError as e:\n",
    "    print(f\"ERROR: {str(e)}\")\n",
    "\n",
    "print(f\"{randalf.weapon=}\")        "
   ]
  },
  {
   "cell_type": "code",
   "execution_count": null,
   "metadata": {},
   "outputs": [],
   "source": [
    "def set_weapon(self, new_weapon):\n",
    "    if new_weapon in [None, \"Ice Staff\", \"Fire Wand\", \"Lightning Dagger\"]:\n",
    "        self.__weapon = new_weapon\n",
    "    else:\n",
    "        raise ValueError(f\"Fallen Mage may not wield {new_weapon}!\")\n",
    "\n",
    "\n",
    "class FallenMage(Monster):\n",
    "\n",
    "    weapon: str = property(fget=None, fset=set_weapon)\n",
    "\n",
    "\n",
    "randalf = FallenMage()\n",
    "weapons = [\"toothpick\", \"Ice Staff\"]\n",
    "try:\n",
    "    for weapon in weapons:\n",
    "        randalf.weapon = weapon\n",
    "except ValueError as e:\n",
    "    print(f\"ERROR: {str(e)}\")\n",
    "\n",
    "print(f\"{randalf.weapon=}\")"
   ]
  },
  {
   "cell_type": "code",
   "execution_count": 15,
   "metadata": {},
   "outputs": [
    {
     "name": "stdout",
     "output_type": "stream",
     "text": [
      "<function test_func at 0x7ff6b3e9b240>\n",
      "Python Library Documentation: function test_func in module __main__\n",
      "\n",
      "test_func(nums: int) -> None\n",
      "    dum func does nothing\n",
      "None\n"
     ]
    },
    {
     "name": "stderr",
     "output_type": "stream",
     "text": [
      "timeit : DEBUG : 2024-08-09 22:28:38,446 - test_func(100000) | 100 runs | AVG run time: 0.00931852\n"
     ]
    }
   ],
   "source": [
    "from functools import wraps\n",
    "import logging\n",
    "from pydoc import doc\n",
    "import time\n",
    "\n",
    "log_format = '%(name)s : %(levelname)s : %(asctime)s - %(message)s'\n",
    "logging.basicConfig(level=logging.DEBUG, format=log_format)\n",
    "logger = logging.getLogger('timeit')\n",
    "\n",
    "def timeitt(runs: int = 100):\n",
    "    def merge_args(args, kwargs):\n",
    "        return \", \".join((item for item in (\", \".join(map(str, args)), \", \".join(map(lambda x:f\"{x[0]} = {x[1]}\", kwargs.items()))) if item))\n",
    "\n",
    "    def decorator(f):\n",
    "        @wraps(f)\n",
    "        def wrapper(*args, **kwargs):\n",
    "            stats = []\n",
    "            for _ in range(runs):\n",
    "                start = time.perf_counter()\n",
    "                result = f(*args, **kwargs)\n",
    "                stats.append(time.perf_counter() - start)\n",
    "            all_args = merge_args(args, kwargs)\n",
    "            logger.debug(f\"{f.__name__}({all_args}) | {runs} runs | AVG run time: {sum(stats) / runs:.8f}\")\n",
    "            return result\n",
    "\n",
    "        return wrapper\n",
    "\n",
    "    return decorator\n",
    "\n",
    "@timeitt(runs = 100)\n",
    "def test_func(nums: int) -> None:\n",
    "    \"\"\"dum func does nothing\"\"\"\n",
    "    for i in range(nums):\n",
    "        pass\n",
    "\n",
    "print(test_func)\n",
    "print(doc(test_func))\n",
    "test_func(100000)"
   ]
  },
  {
   "cell_type": "code",
   "execution_count": null,
   "metadata": {},
   "outputs": [],
   "source": []
  }
 ],
 "metadata": {
  "kernelspec": {
   "display_name": "Python 3",
   "language": "python",
   "name": "python3"
  },
  "language_info": {
   "codemirror_mode": {
    "name": "ipython",
    "version": 3
   },
   "file_extension": ".py",
   "mimetype": "text/x-python",
   "name": "python",
   "nbconvert_exporter": "python",
   "pygments_lexer": "ipython3",
   "version": "3.12.4"
  }
 },
 "nbformat": 4,
 "nbformat_minor": 2
}
